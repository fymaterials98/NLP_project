{
 "cells": [
  {
   "cell_type": "markdown",
   "metadata": {},
   "source": [
    "# <span style=\"color:red\">Read json file in scraper_data and create a cleaned .csv file</span>"
   ]
  },
  {
   "cell_type": "code",
   "execution_count": 1,
   "metadata": {},
   "outputs": [],
   "source": [
    "save_directory ='./scraper_data/'\n",
    "file_index_base = 0\n",
    "name_base = 'file'\n",
    "#file_name = save_directory + name_base + str(j+file_index_base)+'.json'"
   ]
  },
  {
   "cell_type": "code",
   "execution_count": 2,
   "metadata": {},
   "outputs": [],
   "source": [
    "import pandas as pd\n",
    "import numpy as np\n",
    "import json"
   ]
  },
  {
   "cell_type": "markdown",
   "metadata": {},
   "source": [
    "### The following code is for testing json.loads and loaded json file content"
   ]
  },
  {
   "cell_type": "code",
   "execution_count": null,
   "metadata": {},
   "outputs": [],
   "source": [
    "file_name = save_directory + name_base + str(250) + '.json'\n",
    "print(file_name)"
   ]
  },
  {
   "cell_type": "code",
   "execution_count": null,
   "metadata": {},
   "outputs": [],
   "source": [
    "with open(file_name, 'r') as the_file:\n",
    "    content =the_file.readlines()"
   ]
  },
  {
   "cell_type": "code",
   "execution_count": null,
   "metadata": {},
   "outputs": [],
   "source": [
    "record = json.loads(content[0])"
   ]
  },
  {
   "cell_type": "code",
   "execution_count": null,
   "metadata": {},
   "outputs": [],
   "source": [
    "type(record)"
   ]
  },
  {
   "cell_type": "code",
   "execution_count": null,
   "metadata": {},
   "outputs": [],
   "source": [
    "record[0]"
   ]
  },
  {
   "cell_type": "code",
   "execution_count": null,
   "metadata": {},
   "outputs": [],
   "source": [
    "len(content)"
   ]
  },
  {
   "cell_type": "code",
   "execution_count": null,
   "metadata": {},
   "outputs": [],
   "source": [
    "len(record)"
   ]
  },
  {
   "cell_type": "code",
   "execution_count": null,
   "metadata": {},
   "outputs": [],
   "source": [
    "length_record = len(record)"
   ]
  },
  {
   "cell_type": "code",
   "execution_count": null,
   "metadata": {},
   "outputs": [],
   "source": [
    "num_no_work_experience =0\n",
    "num_more_than_one_experience =0\n",
    "for i in range(length_record):\n",
    "    if 'work_experience'not in record[i]:\n",
    "        num_no_work_experience +=1\n",
    "    elif len(record[i]['work_experience'])>1:\n",
    "        num_more_than_one_experience +=1\n"
   ]
  },
  {
   "cell_type": "code",
   "execution_count": null,
   "metadata": {},
   "outputs": [],
   "source": [
    "print('no work experience number is: ', num_no_work_experience)\n",
    "print('more than one work experience is: ', num_more_than_one_experience)"
   ]
  },
  {
   "cell_type": "markdown",
   "metadata": {},
   "source": [
    "### Test if file cannot be found,  the program still runs"
   ]
  },
  {
   "cell_type": "code",
   "execution_count": 3,
   "metadata": {},
   "outputs": [
    {
     "name": "stdout",
     "output_type": "stream",
     "text": [
      "total number of file is:  47\n"
     ]
    }
   ],
   "source": [
    "number_file =0\n",
    "total_number =50\n",
    "begin_num = 150\n",
    "for i in range(begin_num-1, begin_num+total_number):\n",
    "    file_name = save_directory + name_base + str(i+1) + '.json'\n",
    "    try:\n",
    "        #file_name = save_directory + name_base + str(i+1) + '.json'\n",
    "        the_file=open(file_name, 'r')\n",
    "        number_file +=1\n",
    "    except FileNotFoundError:\n",
    "        continue\n",
    "print('total number of file is: ', number_file)"
   ]
  },
  {
   "cell_type": "markdown",
   "metadata": {},
   "source": [
    "### Compare read mode in default and binary mode"
   ]
  },
  {
   "cell_type": "code",
   "execution_count": null,
   "metadata": {},
   "outputs": [],
   "source": [
    "file_name = save_directory + name_base + str(1) + '.json'"
   ]
  },
  {
   "cell_type": "code",
   "execution_count": null,
   "metadata": {},
   "outputs": [],
   "source": [
    "with open(file_name, 'rb') as the_file:\n",
    "    content1 =the_file.readlines()"
   ]
  },
  {
   "cell_type": "code",
   "execution_count": null,
   "metadata": {},
   "outputs": [],
   "source": [
    "record1 = json.loads(content1[0])"
   ]
  },
  {
   "cell_type": "code",
   "execution_count": null,
   "metadata": {},
   "outputs": [],
   "source": [
    "record1[0]"
   ]
  },
  {
   "cell_type": "code",
   "execution_count": null,
   "metadata": {},
   "outputs": [],
   "source": [
    "person_ID =[]\n",
    "job_title =[]\n",
    "job_ID =[]\n",
    "job_company =[]\n",
    "job_date =[]\n",
    "job_description =[]\n",
    "skills =[]\n",
    "additional_infor =[]"
   ]
  },
  {
   "cell_type": "code",
   "execution_count": null,
   "metadata": {},
   "outputs": [],
   "source": [
    "person_information =[person_ID, job_ID, job_title, job_company,\n",
    "                     job_description,job_date, skills, additional_infor]"
   ]
  },
  {
   "cell_type": "code",
   "execution_count": null,
   "metadata": {},
   "outputs": [],
   "source": [
    "import numpy as np"
   ]
  },
  {
   "cell_type": "code",
   "execution_count": null,
   "metadata": {},
   "outputs": [],
   "source": [
    "print(np.nan)\n",
    "print(np.NaN)\n",
    "a=[np.NaN]\n",
    "print(a)"
   ]
  },
  {
   "cell_type": "code",
   "execution_count": null,
   "metadata": {},
   "outputs": [],
   "source": [
    "a=[]\n",
    "a.append([1,2])\n",
    "b=[]\n",
    "b=b+[1,2]\n",
    "print(a)\n",
    "print(b)"
   ]
  },
  {
   "cell_type": "markdown",
   "metadata": {},
   "source": [
    "#### For test class variable and instance variable"
   ]
  },
  {
   "cell_type": "code",
   "execution_count": null,
   "metadata": {},
   "outputs": [],
   "source": [
    "class testClass():\n",
    "    a=5\n",
    "    def __init__(self):\n",
    "        self.a=6\n",
    "    \n",
    "    def Change_Class_Variable(self):\n",
    "        testClass.a =7"
   ]
  },
  {
   "cell_type": "code",
   "execution_count": null,
   "metadata": {},
   "outputs": [],
   "source": [
    "test_a = testClass()\n",
    "print(test_a.a)\n",
    "print(testClass.a)\n",
    "test_a.Change_Class_Variable()\n",
    "print(testClass.a)"
   ]
  },
  {
   "cell_type": "markdown",
   "metadata": {},
   "source": [
    "#### Test code above"
   ]
  },
  {
   "cell_type": "markdown",
   "metadata": {},
   "source": [
    "### Define a class which can read many json files and create list of list"
   ]
  },
  {
   "cell_type": "code",
   "execution_count": 4,
   "metadata": {},
   "outputs": [],
   "source": [
    "#(person_ID, job_ID, job_title, job_company,\n",
    "#job_description, skills, additional_infor)\n",
    "class Make_CSV_file(object):\n",
    "    \n",
    "    def __init__(self):\n",
    "        self.number_records =0\n",
    "        self.number_work_experience =0\n",
    "    #*****************************#\n",
    "    \n",
    "    def Fill_Information(self, file_name, person_information):\n",
    "        person_ID_list =[]\n",
    "        job_title_list =[]\n",
    "        job_ID_list =[]\n",
    "        job_company_list =[]\n",
    "        job_date_list =[]\n",
    "        job_description_list =[]\n",
    "        skills_list =[]\n",
    "        additional_infor_list =[]\n",
    "    \n",
    "        with open(file_name, 'rb') as the_file:\n",
    "            content =the_file.readlines()\n",
    "        \n",
    "        record = json.loads(content[0])\n",
    "        number_record = len(record)\n",
    "        #print('number of records is: ', number_record)\n",
    "        for i in range(number_record):\n",
    "            self.number_records +=1\n",
    "            if 'work_experience'not in record[i] or record[i]['work_experience'] =='NA':\n",
    "                person_ID_list.append(i+1)\n",
    "                job_title_list.append('NA')\n",
    "                job_ID_list.append('NA')\n",
    "                job_company_list.append('NA')\n",
    "                job_date_list.append('NA')\n",
    "                job_description_list.append('NA')\n",
    "                if 'skills' not in record[i] or record[i]['skills'] =='NA':\n",
    "                    skills_list.append('NA')\n",
    "                else:\n",
    "                    skills_list.append(record[i]['skills'][0])\n",
    "                    \n",
    "                if 'additional_information' not in record[i] or record[i]['additional_information'] =='NA':\n",
    "                    additional_infor_list.append('NA')\n",
    "                else:\n",
    "                    additional_infor_list.append(record[i]['additional_information'][0])\n",
    "                    \n",
    "        \n",
    "            else:\n",
    "                number_experience = len(record[i]['work_experience'])\n",
    "                self.number_work_experience +=number_experience\n",
    "                #print('i is: ', i)\n",
    "                for j in range(number_experience):\n",
    "                    person_ID_list.append(i+1)\n",
    "                    job_ID_list.append(j+1)\n",
    "                    job_title_list.append(record[i]['work_experience'][j]['title'])\n",
    "                    job_company_list.append(record[i]['work_experience'][j]['company'])\n",
    "                    job_date_list.append(record[i]['work_experience'][j]['dates'])\n",
    "                    job_description_list.append(record[i]['work_experience'][j]['description'])\n",
    "                    if 'skills' not in record[i] or record[i]['skills'] =='NA':\n",
    "                        skills_list.append('NA')\n",
    "                    else:\n",
    "                        skills_list.append(record[i]['skills'][0])\n",
    "                    \n",
    "                    if 'additional_information' not in record[i] or record[i]['additional_information'] =='NA':\n",
    "                        additional_infor_list.append('NA')\n",
    "                    else:\n",
    "                        additional_infor_list.append(record[i]['additional_information'][0])\n",
    "                    \n",
    "        person_information[0] = person_information[0] + person_ID_list\n",
    "        person_information[1] = person_information[1] + job_ID_list\n",
    "        person_information[2] = person_information[2] + job_title_list\n",
    "        person_information[3] = person_information[3] + job_company_list\n",
    "        person_information[4] = person_information[4] + job_description_list\n",
    "        person_information[5] = person_information[5] + job_date_list\n",
    "        person_information[6] = person_information[6] + skills_list\n",
    "        person_information[7] = person_information[7] + additional_infor_list\n",
    "        #(person_ID, job_ID, job_title, job_company,\n",
    "        #job_description, skills, additional_infor)\n",
    "    #*************************#\n",
    "    \n",
    "    def Extract_Information_Files(self, begin_index, end_index, prefix, suffix, person_information):\n",
    "        for i in range(begin_index, end_index):\n",
    "            file_name = prefix + str(i) + suffix\n",
    "            try:\n",
    "                the_file=open(file_name, 'rb')\n",
    "                the_file.close()\n",
    "                #print('file name is: ', file_name)\n",
    "                self.Fill_Information(file_name, person_information)\n",
    "            except FileNotFoundError:\n",
    "                continue\n",
    "                \n",
    "        "
   ]
  },
  {
   "cell_type": "code",
   "execution_count": 5,
   "metadata": {},
   "outputs": [],
   "source": [
    "person_ID =[]\n",
    "job_title =[]\n",
    "job_ID =[]\n",
    "job_company =[]\n",
    "job_date =[]\n",
    "job_description =[]\n",
    "skills =[]\n",
    "additional_infor =[]\n",
    "person_information =[person_ID, job_ID, job_title, job_company,\n",
    "                     job_description,job_date, skills, additional_infor]"
   ]
  },
  {
   "cell_type": "code",
   "execution_count": 6,
   "metadata": {},
   "outputs": [],
   "source": [
    "make_csv_model = Make_CSV_file()"
   ]
  },
  {
   "cell_type": "code",
   "execution_count": 7,
   "metadata": {},
   "outputs": [],
   "source": [
    "prefix = save_directory + name_base\n",
    "suffix = '.json'\n",
    "begin_index =150\n",
    "end_index =begin_index+50\n",
    "make_csv_model.Extract_Information_Files(begin_index, end_index, prefix, suffix, person_information)"
   ]
  },
  {
   "cell_type": "code",
   "execution_count": 8,
   "metadata": {},
   "outputs": [
    {
     "name": "stdout",
     "output_type": "stream",
     "text": [
      "number of records is:  666\n",
      "number of work experience is:  3102\n"
     ]
    }
   ],
   "source": [
    "print('number of records is: ', make_csv_model.number_records)\n",
    "print('number of work experience is: ', make_csv_model.number_work_experience)"
   ]
  },
  {
   "cell_type": "code",
   "execution_count": 9,
   "metadata": {},
   "outputs": [
    {
     "name": "stdout",
     "output_type": "stream",
     "text": [
      "October 2018 to Present\n"
     ]
    }
   ],
   "source": [
    "#person_information =[person_ID, job_ID, job_title, job_company,\n",
    "#                     job_description,job_date, skills, additional_infor]\n",
    "print(person_information[5][0])"
   ]
  },
  {
   "cell_type": "markdown",
   "metadata": {},
   "source": [
    "#### make a dictionary and convert it to dataframe"
   ]
  },
  {
   "cell_type": "code",
   "execution_count": 10,
   "metadata": {},
   "outputs": [],
   "source": [
    "df_data_machine_learning_engineer = pd.DataFrame({'person_ID': person_information[0],\n",
    "                                   'job_ID': person_information[1],\n",
    "                                   'job_title': person_information[2],\n",
    "                                   'job_company': person_information[3],\n",
    "                                   'job_description': person_information[4],\n",
    "                                   'job_date': person_information[5],\n",
    "                                   'skills': person_information[6],\n",
    "                                   'additional_information': person_information[7]})"
   ]
  },
  {
   "cell_type": "code",
   "execution_count": 11,
   "metadata": {},
   "outputs": [
    {
     "data": {
      "text/html": [
       "<div>\n",
       "<style scoped>\n",
       "    .dataframe tbody tr th:only-of-type {\n",
       "        vertical-align: middle;\n",
       "    }\n",
       "\n",
       "    .dataframe tbody tr th {\n",
       "        vertical-align: top;\n",
       "    }\n",
       "\n",
       "    .dataframe thead th {\n",
       "        text-align: right;\n",
       "    }\n",
       "</style>\n",
       "<table border=\"1\" class=\"dataframe\">\n",
       "  <thead>\n",
       "    <tr style=\"text-align: right;\">\n",
       "      <th></th>\n",
       "      <th>person_ID</th>\n",
       "      <th>job_ID</th>\n",
       "      <th>job_title</th>\n",
       "      <th>job_company</th>\n",
       "      <th>job_description</th>\n",
       "      <th>job_date</th>\n",
       "      <th>skills</th>\n",
       "      <th>additional_information</th>\n",
       "    </tr>\n",
       "  </thead>\n",
       "  <tbody>\n",
       "    <tr>\n",
       "      <th>0</th>\n",
       "      <td>1</td>\n",
       "      <td>1</td>\n",
       "      <td>Machine Learning Engineer Intern</td>\n",
       "      <td>Molyworks Materials Corporation - Los Gatos, CA</td>\n",
       "      <td>Leading Machine Learning efforts and incorpo...</td>\n",
       "      <td>October 2018 to Present</td>\n",
       "      <td>NA</td>\n",
       "      <td>TECHNICAL SKILLSData Analysis</td>\n",
       "    </tr>\n",
       "    <tr>\n",
       "      <th>1</th>\n",
       "      <td>2</td>\n",
       "      <td>1</td>\n",
       "      <td>Machine Learning Engineer</td>\n",
       "      <td>Intellipro Group Inc - San Jose, CA</td>\n",
       "      <td>Dec 2017 - now Machine Learning Engineerl Deve...</td>\n",
       "      <td>December 2017 to Present</td>\n",
       "      <td>Linux (Less than 1 year)</td>\n",
       "      <td>NA</td>\n",
       "    </tr>\n",
       "    <tr>\n",
       "      <th>2</th>\n",
       "      <td>2</td>\n",
       "      <td>2</td>\n",
       "      <td>Machine Learning Engineer</td>\n",
       "      <td>Toolots Inc - Los Angeles, CA</td>\n",
       "      <td>l   Designed and developed a Content Review An...</td>\n",
       "      <td>May 2017 to September 2017</td>\n",
       "      <td>Linux (Less than 1 year)</td>\n",
       "      <td>NA</td>\n",
       "    </tr>\n",
       "    <tr>\n",
       "      <th>3</th>\n",
       "      <td>2</td>\n",
       "      <td>3</td>\n",
       "      <td>Software Development Engineer II</td>\n",
       "      <td>Bleum Software Corp</td>\n",
       "      <td>lDesigned and developed an e-commerce service ...</td>\n",
       "      <td>December 2013 to April 2015</td>\n",
       "      <td>Linux (Less than 1 year)</td>\n",
       "      <td>NA</td>\n",
       "    </tr>\n",
       "    <tr>\n",
       "      <th>4</th>\n",
       "      <td>3</td>\n",
       "      <td>1</td>\n",
       "      <td>Machine Learning Engineer</td>\n",
       "      <td>TOPCON - Milpitas, CA</td>\n",
       "      <td>Applying Deep learning and classical machine l...</td>\n",
       "      <td>March 2018 to Present</td>\n",
       "      <td>NA</td>\n",
       "      <td>NA</td>\n",
       "    </tr>\n",
       "  </tbody>\n",
       "</table>\n",
       "</div>"
      ],
      "text/plain": [
       "   person_ID  job_ID                         job_title  \\\n",
       "0          1       1  Machine Learning Engineer Intern   \n",
       "1          2       1         Machine Learning Engineer   \n",
       "2          2       2         Machine Learning Engineer   \n",
       "3          2       3  Software Development Engineer II   \n",
       "4          3       1         Machine Learning Engineer   \n",
       "\n",
       "                                       job_company  \\\n",
       "0  Molyworks Materials Corporation - Los Gatos, CA   \n",
       "1              Intellipro Group Inc - San Jose, CA   \n",
       "2                    Toolots Inc - Los Angeles, CA   \n",
       "3                              Bleum Software Corp   \n",
       "4                            TOPCON - Milpitas, CA   \n",
       "\n",
       "                                     job_description  \\\n",
       "0    Leading Machine Learning efforts and incorpo...   \n",
       "1  Dec 2017 - now Machine Learning Engineerl Deve...   \n",
       "2  l   Designed and developed a Content Review An...   \n",
       "3  lDesigned and developed an e-commerce service ...   \n",
       "4  Applying Deep learning and classical machine l...   \n",
       "\n",
       "                      job_date                    skills  \\\n",
       "0      October 2018 to Present                        NA   \n",
       "1     December 2017 to Present  Linux (Less than 1 year)   \n",
       "2   May 2017 to September 2017  Linux (Less than 1 year)   \n",
       "3  December 2013 to April 2015  Linux (Less than 1 year)   \n",
       "4        March 2018 to Present                        NA   \n",
       "\n",
       "          additional_information  \n",
       "0  TECHNICAL SKILLSData Analysis  \n",
       "1                             NA  \n",
       "2                             NA  \n",
       "3                             NA  \n",
       "4                             NA  "
      ]
     },
     "execution_count": 11,
     "metadata": {},
     "output_type": "execute_result"
    }
   ],
   "source": [
    "#df_data_analyst.head()\n",
    "#df_data_engineer.head()\n",
    "df_data_machine_learning_engineer.head()"
   ]
  },
  {
   "cell_type": "code",
   "execution_count": 12,
   "metadata": {},
   "outputs": [],
   "source": [
    "#df_Engineer.to_csv('./data/data_engineer.csv', index =False)\n",
    "#df_data_analyst.to_csv('./data/data_data_analyst.csv', index =False)\n",
    "#df_data_engineer.to_csv('./data/data_data_engineer.csv', index =False)\n",
    "df_data_machine_learning_engineer.to_csv('./data/data_machine_learning_engineer.csv', index =False)"
   ]
  },
  {
   "cell_type": "code",
   "execution_count": 13,
   "metadata": {},
   "outputs": [],
   "source": [
    "#df = pd.read_csv('./data/data_data_analyst.csv')\n",
    "#df = pd.read_csv('./data/data_data_engineer.csv')\n",
    "df = pd.read_csv('./data/data_machine_learning_engineer.csv')"
   ]
  },
  {
   "cell_type": "code",
   "execution_count": 14,
   "metadata": {},
   "outputs": [
    {
     "data": {
      "text/html": [
       "<div>\n",
       "<style scoped>\n",
       "    .dataframe tbody tr th:only-of-type {\n",
       "        vertical-align: middle;\n",
       "    }\n",
       "\n",
       "    .dataframe tbody tr th {\n",
       "        vertical-align: top;\n",
       "    }\n",
       "\n",
       "    .dataframe thead th {\n",
       "        text-align: right;\n",
       "    }\n",
       "</style>\n",
       "<table border=\"1\" class=\"dataframe\">\n",
       "  <thead>\n",
       "    <tr style=\"text-align: right;\">\n",
       "      <th></th>\n",
       "      <th>person_ID</th>\n",
       "      <th>job_ID</th>\n",
       "      <th>job_title</th>\n",
       "      <th>job_company</th>\n",
       "      <th>job_description</th>\n",
       "      <th>job_date</th>\n",
       "      <th>skills</th>\n",
       "      <th>additional_information</th>\n",
       "    </tr>\n",
       "  </thead>\n",
       "  <tbody>\n",
       "    <tr>\n",
       "      <th>0</th>\n",
       "      <td>1</td>\n",
       "      <td>1</td>\n",
       "      <td>Machine Learning Engineer Intern</td>\n",
       "      <td>Molyworks Materials Corporation - Los Gatos, CA</td>\n",
       "      <td>Leading Machine Learning efforts and incorpo...</td>\n",
       "      <td>October 2018 to Present</td>\n",
       "      <td>NaN</td>\n",
       "      <td>TECHNICAL SKILLSData Analysis</td>\n",
       "    </tr>\n",
       "    <tr>\n",
       "      <th>1</th>\n",
       "      <td>2</td>\n",
       "      <td>1</td>\n",
       "      <td>Machine Learning Engineer</td>\n",
       "      <td>Intellipro Group Inc - San Jose, CA</td>\n",
       "      <td>Dec 2017 - now Machine Learning Engineerl Deve...</td>\n",
       "      <td>December 2017 to Present</td>\n",
       "      <td>Linux (Less than 1 year)</td>\n",
       "      <td>NaN</td>\n",
       "    </tr>\n",
       "    <tr>\n",
       "      <th>2</th>\n",
       "      <td>2</td>\n",
       "      <td>2</td>\n",
       "      <td>Machine Learning Engineer</td>\n",
       "      <td>Toolots Inc - Los Angeles, CA</td>\n",
       "      <td>l   Designed and developed a Content Review An...</td>\n",
       "      <td>May 2017 to September 2017</td>\n",
       "      <td>Linux (Less than 1 year)</td>\n",
       "      <td>NaN</td>\n",
       "    </tr>\n",
       "    <tr>\n",
       "      <th>3</th>\n",
       "      <td>2</td>\n",
       "      <td>3</td>\n",
       "      <td>Software Development Engineer II</td>\n",
       "      <td>Bleum Software Corp</td>\n",
       "      <td>lDesigned and developed an e-commerce service ...</td>\n",
       "      <td>December 2013 to April 2015</td>\n",
       "      <td>Linux (Less than 1 year)</td>\n",
       "      <td>NaN</td>\n",
       "    </tr>\n",
       "    <tr>\n",
       "      <th>4</th>\n",
       "      <td>3</td>\n",
       "      <td>1</td>\n",
       "      <td>Machine Learning Engineer</td>\n",
       "      <td>TOPCON - Milpitas, CA</td>\n",
       "      <td>Applying Deep learning and classical machine l...</td>\n",
       "      <td>March 2018 to Present</td>\n",
       "      <td>NaN</td>\n",
       "      <td>NaN</td>\n",
       "    </tr>\n",
       "  </tbody>\n",
       "</table>\n",
       "</div>"
      ],
      "text/plain": [
       "   person_ID  job_ID                         job_title  \\\n",
       "0          1       1  Machine Learning Engineer Intern   \n",
       "1          2       1         Machine Learning Engineer   \n",
       "2          2       2         Machine Learning Engineer   \n",
       "3          2       3  Software Development Engineer II   \n",
       "4          3       1         Machine Learning Engineer   \n",
       "\n",
       "                                       job_company  \\\n",
       "0  Molyworks Materials Corporation - Los Gatos, CA   \n",
       "1              Intellipro Group Inc - San Jose, CA   \n",
       "2                    Toolots Inc - Los Angeles, CA   \n",
       "3                              Bleum Software Corp   \n",
       "4                            TOPCON - Milpitas, CA   \n",
       "\n",
       "                                     job_description  \\\n",
       "0    Leading Machine Learning efforts and incorpo...   \n",
       "1  Dec 2017 - now Machine Learning Engineerl Deve...   \n",
       "2  l   Designed and developed a Content Review An...   \n",
       "3  lDesigned and developed an e-commerce service ...   \n",
       "4  Applying Deep learning and classical machine l...   \n",
       "\n",
       "                      job_date                    skills  \\\n",
       "0      October 2018 to Present                       NaN   \n",
       "1     December 2017 to Present  Linux (Less than 1 year)   \n",
       "2   May 2017 to September 2017  Linux (Less than 1 year)   \n",
       "3  December 2013 to April 2015  Linux (Less than 1 year)   \n",
       "4        March 2018 to Present                       NaN   \n",
       "\n",
       "          additional_information  \n",
       "0  TECHNICAL SKILLSData Analysis  \n",
       "1                            NaN  \n",
       "2                            NaN  \n",
       "3                            NaN  \n",
       "4                            NaN  "
      ]
     },
     "execution_count": 14,
     "metadata": {},
     "output_type": "execute_result"
    }
   ],
   "source": [
    "df.head()"
   ]
  },
  {
   "cell_type": "code",
   "execution_count": 15,
   "metadata": {},
   "outputs": [
    {
     "data": {
      "text/plain": [
       "(3102, 8)"
      ]
     },
     "execution_count": 15,
     "metadata": {},
     "output_type": "execute_result"
    }
   ],
   "source": [
    "df.shape"
   ]
  },
  {
   "cell_type": "code",
   "execution_count": null,
   "metadata": {},
   "outputs": [],
   "source": [
    "df.loc[pd.isnull(df.job_ID)]"
   ]
  },
  {
   "cell_type": "code",
   "execution_count": null,
   "metadata": {},
   "outputs": [],
   "source": [
    "def find_data_scientist(title_value):\n",
    "    target = 'data scientist'\n",
    "    if type(title_value) == float:\n",
    "        return -1\n",
    "    elif type(title_value) ==str:\n",
    "        if title_value.lower().find(target) >=0:\n",
    "            return 1\n",
    "        else:\n",
    "            return 0"
   ]
  },
  {
   "cell_type": "code",
   "execution_count": null,
   "metadata": {},
   "outputs": [],
   "source": [
    "is_data_scientist =df.job_title.map(find_data_scientist)"
   ]
  },
  {
   "cell_type": "code",
   "execution_count": null,
   "metadata": {},
   "outputs": [],
   "source": [
    "sum(is_data_scientist==1)"
   ]
  },
  {
   "cell_type": "code",
   "execution_count": null,
   "metadata": {},
   "outputs": [],
   "source": [
    "sum(is_data_scientist==0)"
   ]
  },
  {
   "cell_type": "code",
   "execution_count": null,
   "metadata": {},
   "outputs": [],
   "source": [
    "sum(is_data_scientist==-1)"
   ]
  },
  {
   "cell_type": "code",
   "execution_count": null,
   "metadata": {},
   "outputs": [],
   "source": [
    "is_data_scientist[is_data_scientist==0][0:5]"
   ]
  },
  {
   "cell_type": "code",
   "execution_count": null,
   "metadata": {},
   "outputs": [],
   "source": [
    "df.iloc[10]"
   ]
  },
  {
   "cell_type": "code",
   "execution_count": null,
   "metadata": {},
   "outputs": [],
   "source": [
    "df.loc[10]"
   ]
  },
  {
   "cell_type": "code",
   "execution_count": null,
   "metadata": {},
   "outputs": [],
   "source": [
    "df.loc[10]['job_title']"
   ]
  },
  {
   "cell_type": "code",
   "execution_count": null,
   "metadata": {},
   "outputs": [],
   "source": [
    "df.loc[10, 'job_title']"
   ]
  },
  {
   "cell_type": "code",
   "execution_count": null,
   "metadata": {},
   "outputs": [],
   "source": [
    "df.job_company[0:4]"
   ]
  },
  {
   "cell_type": "code",
   "execution_count": null,
   "metadata": {},
   "outputs": [],
   "source": []
  }
 ],
 "metadata": {
  "kernelspec": {
   "display_name": "Python 3",
   "language": "python",
   "name": "python3"
  },
  "language_info": {
   "codemirror_mode": {
    "name": "ipython",
    "version": 3
   },
   "file_extension": ".py",
   "mimetype": "text/x-python",
   "name": "python",
   "nbconvert_exporter": "python",
   "pygments_lexer": "ipython3",
   "version": "3.6.4"
  }
 },
 "nbformat": 4,
 "nbformat_minor": 2
}
